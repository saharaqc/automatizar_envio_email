{
  "nbformat": 4,
  "nbformat_minor": 0,
  "metadata": {
    "colab": {
      "provenance": [],
      "include_colab_link": true
    },
    "kernelspec": {
      "name": "python3",
      "display_name": "Python 3"
    },
    "language_info": {
      "name": "python"
    }
  },
  "cells": [
    {
      "cell_type": "markdown",
      "metadata": {
        "id": "view-in-github",
        "colab_type": "text"
      },
      "source": [
        "<a href=\"https://colab.research.google.com/github/saji89lulu/automatizar_envio_email/blob/main/Sahara_Proyecto_2_Python_Avanzado.ipynb\" target=\"_parent\"><img src=\"https://colab.research.google.com/assets/colab-badge.svg\" alt=\"Open In Colab\"/></a>"
      ]
    },
    {
      "cell_type": "markdown",
      "source": [
        "#Automatizar generación de Emails personalizados\n",
        "\n",
        "\n",
        "En este proyecto vamos a automatizar la generación de emails. Para ello os entregaremos una lista de correos ficticia de diferentes proveedores de emails (En lugar de utilizar gmail, yahoo y outlook usaremos vmail,gagoo y youtlook, para evitar que sean reales).\n",
        "\n"
      ],
      "metadata": {
        "id": "aOH7LGQfK39p"
      }
    },
    {
      "cell_type": "markdown",
      "source": [
        "# Crear el diccionario proveedor_usuarios\n",
        "\n",
        "Para empezar crearemos la clase y el primer método llamado proveedor_usuarios el cual recibirá una lista de correos como parámetro y devolverá el diccionario donde las claves serán los diferentes proveedores de correos y los valores la lista de nombres de usuario que utilizan dicho proveedor.\n",
        "\n",
        "Por ejemplo, en la dirreción de correo 'jimenez@gagoo.es' el nombre de usuario es 'jimenez' y su proveedor 'gagoo.es'.\n",
        "\n",
        "\n",
        "EJEMPLO\n",
        "* Entrada\n",
        "      Lista_emails=['garcia@vmail.es','sanchez@gagoo.es','pedro@youtlook.es','carlos@vmail.es','german@gagoo.es','pablo@youtlook.es','fernandez@vmail.es','jimenez@gagoo.es','edu.perez@youtlook.es','rubia.17@vmail.es','1995sanz@gagoo.es','donaire@youtlook.es','pascual@vmail.es','pantoja14@vmail.es','romero@gagoo.es']\n",
        "      Email().proveedor_usuarios(Lista_emails)\n",
        "\n",
        "* Salida\n",
        "      {'gagoo.es': ['sanchez', 'german', 'jimenez', '1995sanz', 'romero'], 'vmail.es': ['garcia', 'carlos', 'fernandez', 'rubia.17', 'pascual', 'pantoja14'], 'youtlook.es': ['pedro', 'pablo', 'edu.perez', 'donaire']}"
      ],
      "metadata": {
        "id": "3jajqiSZRl0b"
      }
    },
    {
      "cell_type": "code",
      "source": [
        "Lista_emails=['garcia@vmail.es','sanchez@gagoo.es','pedro@youtlook.es','carlos@vmail.es','german@gagoo.es','pablo@youtlook.es','fernandez@vmail.es','jimenez@gagoo.es','edu.perez@youtlook.es','rubia.17@vmail.es','1995sanz@gagoo.es','donaire@youtlook.es','pascual@vmail.es','pantoja14@vmail.es','romero@gagoo.es']\n",
        "\n",
        "#Define la clase Email y el método proveedor_usuarios\n",
        "import re\n",
        "\n",
        "class Email:\n",
        "\n",
        "  def proveedor_usuarios(self, lista):\n",
        "    self.lista=lista\n",
        "    result = []\n",
        "    lista_divida = []\n",
        "    cont=0\n",
        "\n",
        "    #separo en la lista los dominios por su caracter @\n",
        "    for email in self.lista:\n",
        "       result=re.split(r'@', email)\n",
        "       lista_divida.append(result) #se agrega el resultado a una lista dividida\n",
        "       cont+=1\n",
        "\n",
        "    proveedor={}# diccionario para organizar por el dominio de cada usuario\n",
        "    #se itera en esta nueva lista para agrupar por el dominio\n",
        "    for datos in lista_divida:\n",
        "      usuario, dominio = datos #desempaquetar los datos\n",
        "      if re.search(r'gagoo.es$', dominio):\n",
        "        if dominio not in proveedor:\n",
        "          proveedor['gagoo.es'] = [] # se agrega la clave si no está\n",
        "        proveedor['gagoo.es'].append(usuario) # se adiciona el usuario\n",
        "      elif re.search(r'vmail.es$', dominio):\n",
        "        if dominio not in proveedor:\n",
        "          proveedor['vmail.es'] = []\n",
        "        proveedor['vmail.es'].append(usuario)\n",
        "      else:\n",
        "        if dominio not in proveedor:\n",
        "          proveedor[dominio] = []\n",
        "        proveedor[dominio].append(usuario)\n",
        "\n",
        "    return proveedor\n",
        "\n",
        "Email().proveedor_usuarios(Lista_emails)\n",
        "\n"
      ],
      "metadata": {
        "id": "jJeURjjBVKuf",
        "colab": {
          "base_uri": "https://localhost:8080/"
        },
        "outputId": "af0ad6b1-45c3-4dda-d5d6-74633430ef43"
      },
      "execution_count": null,
      "outputs": [
        {
          "output_type": "execute_result",
          "data": {
            "text/plain": [
              "{'vmail.es': ['garcia',\n",
              "  'carlos',\n",
              "  'fernandez',\n",
              "  'rubia.17',\n",
              "  'pascual',\n",
              "  'pantoja14'],\n",
              " 'gagoo.es': ['sanchez', 'german', 'jimenez', '1995sanz', 'romero'],\n",
              " 'youtlook.es': ['pedro', 'pablo', 'edu.perez', 'donaire']}"
            ]
          },
          "metadata": {},
          "execution_count": 15
        }
      ]
    },
    {
      "cell_type": "code",
      "source": [
        "#@title Comprueba el método proveedor_usuarios\n",
        "lista_check=['a1@hola.com','a2@adios.es','b1@hola.com']\n",
        "def check():\n",
        "  if Email().proveedor_usuarios(Lista_emails)=={'gagoo.es': ['sanchez', 'german', 'jimenez', '1995sanz', 'romero'], 'vmail.es': ['garcia', 'carlos', 'fernandez', 'rubia.17', 'pascual', 'pantoja14'], 'youtlook.es': ['pedro', 'pablo', 'edu.perez', 'donaire']} and Email().proveedor_usuarios(lista_check)=={'adios.es': ['a2'], 'hola.com': ['a1', 'b1']}:\n",
        "    return 'Correcto'\n",
        "  else:\n",
        "    return 'Incorrecto'\n",
        "\n",
        "check()"
      ],
      "metadata": {
        "cellView": "form",
        "id": "uASh1GefrpQh",
        "colab": {
          "base_uri": "https://localhost:8080/",
          "height": 35
        },
        "outputId": "7d9a12eb-2f0a-470c-8231-8ae729c434ad"
      },
      "execution_count": null,
      "outputs": [
        {
          "output_type": "execute_result",
          "data": {
            "text/plain": [
              "'Correcto'"
            ],
            "application/vnd.google.colaboratory.intrinsic+json": {
              "type": "string"
            }
          },
          "metadata": {},
          "execution_count": 35
        }
      ]
    },
    {
      "cell_type": "markdown",
      "source": [
        "## Método mensaje\n",
        "\n",
        "Añade el método mensaje a la clase anterior.\n",
        "\n",
        "Este método mensaje recibirá como parámetro el texto genérico que contendrá el mensaje y creará un txt con dicho texto llamado mensaje_generico.txt.\n",
        "\n",
        "El texto genérico debe tener marcado entre corchetes '{}' que partes del texto serán personalizables. En este caso el texto genérico será:\n",
        "\n",
        "      'Buenos dias {nombre},\n",
        "      Gracias por elegir {proveedor} como tu proveedor de mensajes.\n",
        "      Un cordial saludo'\n",
        "\n",
        "Este método devolverá la lectura del archivo txt 'mensaje_generico.txt', que deberá ser igual al texto genérico mostrado anteriormente.\n"
      ],
      "metadata": {
        "id": "Y0_ErXeSaZK_"
      }
    },
    {
      "cell_type": "code",
      "source": [
        "Lista_emails=['garcia@vmail.es','sanchez@gagoo.es','pedro@youtlook.es','carlos@vmail.es','german@gagoo.es','pablo@youtlook.es','fernandez@vmail.es','jimenez@gagoo.es','edu.perez@youtlook.es','rubia.17@vmail.es','1995sanz@gagoo.es','donaire@youtlook.es','pascual@vmail.es','pantoja14@vmail.es','romero@gagoo.es']\n",
        "\n",
        "\n",
        "import re\n",
        "#Añade a la clase Email el método mensaje\n",
        "\n",
        "class Email:\n",
        "\n",
        "  def proveedor_usuarios(self, lista):\n",
        "    self.lista=lista\n",
        "    result = []\n",
        "    lista_divida = []\n",
        "    cont=0\n",
        "\n",
        "    #separo en la lista los dominios por su caracter @\n",
        "    for email in self.lista:\n",
        "       result=re.split(r'@', email)\n",
        "       lista_divida.append(result) #se agrega el resultado a una lista dividida\n",
        "       cont+=1\n",
        "\n",
        "    proveedor={}# diccionario para organizar por el dominio de cada usuario\n",
        "    #se itera en esta nueva lista para agrupar por el dominio\n",
        "    for datos in lista_divida:\n",
        "      usuario, dominio = datos #desempaquetar los datos\n",
        "      if re.search(r'gagoo.es$', dominio):\n",
        "        if dominio not in proveedor:\n",
        "          proveedor['gagoo.es'] = [] # se agrega la clave si no está\n",
        "        proveedor['gagoo.es'].append(usuario) # se adiciona el usuario\n",
        "      elif re.search(r'vmail.es$', dominio):\n",
        "        if dominio not in proveedor:\n",
        "          proveedor['vmail.es'] = []\n",
        "        proveedor['vmail.es'].append(usuario)\n",
        "      else:\n",
        "        if dominio not in proveedor:\n",
        "          proveedor[dominio] = []\n",
        "        proveedor[dominio].append(usuario)\n",
        "\n",
        "    return proveedor\n",
        "\n",
        "  def mensaje(self, texto):\n",
        "    self.texto=texto\n",
        "    f=open('mensaje_generico.txt', 'w')\n",
        "    f.write(self.texto)\n",
        "    f.close()\n",
        "    f=open('mensaje_generico.txt', 'r')\n",
        "    return f.read()\n",
        "\n",
        "Email().proveedor_usuarios(Lista_emails)\n",
        "\n",
        "\n",
        "Email().mensaje('Buenos dias {nombre},\\nGracias por elegir {proveedor} como tu proveedor de mensajes.\\nUn cordial saludo')\n"
      ],
      "metadata": {
        "id": "ul4gVehYcInR",
        "colab": {
          "base_uri": "https://localhost:8080/",
          "height": 35
        },
        "outputId": "81360011-1583-4764-d594-3342d68052cb"
      },
      "execution_count": null,
      "outputs": [
        {
          "output_type": "execute_result",
          "data": {
            "text/plain": [
              "'Buenos dias {nombre},\\nGracias por elegir {proveedor} como tu proveedor de mensajes.\\nUn cordial saludo'"
            ],
            "application/vnd.google.colaboratory.intrinsic+json": {
              "type": "string"
            }
          },
          "metadata": {},
          "execution_count": 1
        }
      ]
    },
    {
      "cell_type": "code",
      "source": [
        "#@title Comprueba el método mensaje\n",
        "texto_check2='Comprobando el método mensaje de la clase Email para {nombre} y {proveedor}'\n",
        "def check2():\n",
        "  if Email().mensaje(texto_check2)=='Comprobando el método mensaje de la clase Email para {nombre} y {proveedor}':\n",
        "    return 'Correcto'\n",
        "  else:\n",
        "    return 'Incorrecto'\n",
        "\n",
        "check2()"
      ],
      "metadata": {
        "cellView": "form",
        "id": "PRdYaJzkuZem",
        "colab": {
          "base_uri": "https://localhost:8080/",
          "height": 35
        },
        "outputId": "46d07a6c-d7ee-4457-edf6-1225f6035c58"
      },
      "execution_count": null,
      "outputs": [
        {
          "output_type": "execute_result",
          "data": {
            "text/plain": [
              "'Correcto'"
            ],
            "application/vnd.google.colaboratory.intrinsic+json": {
              "type": "string"
            }
          },
          "metadata": {},
          "execution_count": 15
        }
      ]
    },
    {
      "cell_type": "markdown",
      "source": [
        "##Método preparar_envio\n",
        "\n",
        "Añade el método preparar_envio el cual debe recibir como parámetros:\n",
        "\n",
        "* El diccionario con los correos separados por proveedor.\n",
        "\n",
        "* El proveedor de correos a cuyos usuarios queremos enviarles el correo.\n",
        "\n",
        "* El mensaje genérico a personalizar.\n",
        "\n",
        "Y debe crear tantos emails personalizados en txt y devolver la cadena de texto: 'Se han creado x correos personalizados para ususarios que usan y'.\n",
        "\n",
        "Donde \"x\" sea el número de correos creados e \"y\" el nombre del proveedor de correo.\n",
        "\n",
        "EJEMPLO\n",
        "\n",
        "Entrada\n",
        "\n",
        "      dict_emails=Email().proveedor_usuarios(Lista_emails)\n",
        "      generico=Email().mensaje('Buenos dias {nombre},\\nGracias por elegir {proveedor} como tu proveedor de mensajes.\\nUn cordial saludo')\n",
        "      Email().preparar_envio(dict_emails,'youtlook.es',generico)\n",
        "\n",
        "Salida\n",
        "\n",
        "      'Se han creado 4 emails personalizados de cuentas de youtlook.es'"
      ],
      "metadata": {
        "id": "iCEOKZ6Xep6-"
      }
    },
    {
      "cell_type": "code",
      "source": [],
      "metadata": {
        "id": "Zy0jbkWHe_br"
      },
      "execution_count": null,
      "outputs": []
    },
    {
      "cell_type": "code",
      "source": [
        "import re\n",
        "#Añade a la clase Email el método preparar_envio\n",
        "class Email:\n",
        "  def proveedor_usuarios(self, lista):\n",
        "    self.lista=lista\n",
        "    result = []\n",
        "    lista_divida = []\n",
        "    cont=0\n",
        "\n",
        "    #separo en la lista los dominios por su caracter @\n",
        "    for email in self.lista:\n",
        "       result=re.split(r'@', email)\n",
        "       lista_divida.append(result) #se agrega el resultado a una lista dividida\n",
        "       cont+=1\n",
        "\n",
        "    proveedor={}# diccionario para organizar por el dominio de cada usuario\n",
        "    #se itera en esta nueva lista para agrupar por el dominio\n",
        "    for datos in lista_divida:\n",
        "      usuario, dominio = datos #desempaquetar los datos\n",
        "      if re.search(r'gagoo.es$', dominio):\n",
        "        if dominio not in proveedor:\n",
        "          proveedor['gagoo.es'] = [] # se agrega la clave si no está\n",
        "        proveedor['gagoo.es'].append(usuario) # se adiciona el usuario\n",
        "      elif re.search(r'vmail.es$', dominio):\n",
        "        if dominio not in proveedor:\n",
        "          proveedor['vmail.es'] = []\n",
        "        proveedor['vmail.es'].append(usuario)\n",
        "      else:\n",
        "        if dominio not in proveedor:\n",
        "          proveedor[dominio] = []\n",
        "        proveedor[dominio].append(usuario)\n",
        "\n",
        "    return proveedor\n",
        "\n",
        "  def mensaje(self, texto):\n",
        "    self.texto=texto\n",
        "    f=open('mensaje_generico.txt', 'w')\n",
        "    f.write(self.texto)\n",
        "    f.close()\n",
        "    f=open('mensaje_generico.txt', 'r')\n",
        "    return f.read()\n",
        "\n",
        "  def preparar_envio(self, diccionario, proveedor, generico):\n",
        "    self.diccionario=diccionario\n",
        "    self.proveedor=proveedor\n",
        "    self.generico=generico\n",
        "    #valido si el proveedor(la clave) se encuentra en el diccionario\n",
        "    if self.proveedor in self.diccionario:\n",
        "      usuarios = self.diccionario[self.proveedor] #leo los valores de la clave proveedor\n",
        "      acumulado=len(usuarios) #valido la dimensión de la cadena de usuarios que coinciden con el proveedor\n",
        "      #itero en los valores(nombres) del diccionaio\n",
        "      for usuario in usuarios:\n",
        "  #     y reemplazo las variables del mensaje personalizado\n",
        "        mensaje_personalizado=re.sub(r'{nombre}',usuario,self.generico)\n",
        "        mensaje_personalizado=re.sub(r'{proveedor}',self.proveedor,mensaje_personalizado)\n",
        "        # Escribo el mensaje personalizado del email en el archivo de salida\n",
        "        archivo_salida=open(usuario+'@'+proveedor+'.txt', 'w')\n",
        "        archivo_salida.write(mensaje_personalizado)\n",
        "        archivo_salida.close()\n",
        "    else:\n",
        "      print('No se encontro proveedor')\n",
        "  #se devuelve la cantidad de emails que se almacenaron\n",
        "    return (f'Se han creado {acumulado} emails personalizados de cuentas de {self.proveedor}')\n",
        "\n",
        "\n",
        "\n",
        "dict_emails=Email().proveedor_usuarios(Lista_emails)\n",
        "generico=Email().mensaje('Buenos dias {nombre},\\nGracias por elegir {proveedor} como tu proveedor de mensajes.\\nUn cordial saludo')\n",
        "Email().preparar_envio(dict_emails,'youtlook.es',generico)"
      ],
      "metadata": {
        "id": "XsPmb5nTy2jj",
        "colab": {
          "base_uri": "https://localhost:8080/",
          "height": 35
        },
        "outputId": "3cb93de5-edc2-4c27-dc4b-83a4f0b4a315"
      },
      "execution_count": null,
      "outputs": [
        {
          "output_type": "execute_result",
          "data": {
            "text/plain": [
              "'Se han creado 4 emails personalizados de cuentas de youtlook.es'"
            ],
            "application/vnd.google.colaboratory.intrinsic+json": {
              "type": "string"
            }
          },
          "metadata": {},
          "execution_count": 53
        }
      ]
    },
    {
      "cell_type": "code",
      "source": [
        "#@title Comprueba el método preparar_envio\n",
        "def check3():\n",
        "  if Email().preparar_envio(Email().proveedor_usuarios(lista_check),'hola.com',Email().mensaje('Comprobando el método mensaje de la clase Email para {nombre} y {proveedor}'))=='Se han creado 2 emails personalizados de cuentas de hola.com':\n",
        "    fileA=open('pedro@youtlook.es.txt','r')\n",
        "    text_check3A=fileA.read()\n",
        "    fileA.close()\n",
        "    fileB=open('donaire@youtlook.es.txt','r')\n",
        "    text_check3B=fileB.read()\n",
        "    fileB.close()\n",
        "    if text_check3A!=text_check3B:\n",
        "      return 'Correcto'\n",
        "    else:\n",
        "      return 'Incorrecto. Comprueba el contenido de los txt.'\n",
        "  else:\n",
        "    return 'Incorrecto'\n",
        "\n",
        "check3()"
      ],
      "metadata": {
        "id": "yhV1nUO27uSe",
        "cellView": "form"
      },
      "execution_count": null,
      "outputs": []
    },
    {
      "cell_type": "code",
      "source": [
        "#@title Consigue el Token para corregir el proyecto en Nodd3r\n",
        "import hashlib\n",
        "\n",
        "file1=open('a1@hola.com.txt','r')\n",
        "text_token1=file1.read()\n",
        "file1.close()\n",
        "file2=open('donaire@youtlook.es.txt','r')\n",
        "text_token2=file2.read()\n",
        "file2.close()\n",
        "pwd = hashlib.sha256((str(text_token1)+str(text_token2)).encode())\n",
        "if pwd.hexdigest()[0:6] == '362d55':\n",
        "  print('¡Felicidades! puedes avanzar al siguiente modulo \\n El token es: ',pwd.hexdigest())\n",
        "else:\n",
        "  print('Hay algún error en el código o tu forma es diferente a la planteada, pregunta por el foro si no lo ves claro.')\n",
        "#print(pwd.hexdigest())"
      ],
      "metadata": {
        "id": "hEBD1WxWy0gM",
        "colab": {
          "base_uri": "https://localhost:8080/",
          "height": 211
        },
        "outputId": "9a357025-7197-435d-f790-06d5f992d8db"
      },
      "execution_count": null,
      "outputs": [
        {
          "output_type": "error",
          "ename": "FileNotFoundError",
          "evalue": "[Errno 2] No such file or directory: 'a1@hola.com.txt'",
          "traceback": [
            "\u001b[0;31m---------------------------------------------------------------------------\u001b[0m",
            "\u001b[0;31mFileNotFoundError\u001b[0m                         Traceback (most recent call last)",
            "\u001b[0;32m<ipython-input-55-66b1da181509>\u001b[0m in \u001b[0;36m<cell line: 4>\u001b[0;34m()\u001b[0m\n\u001b[1;32m      2\u001b[0m \u001b[0;32mimport\u001b[0m \u001b[0mhashlib\u001b[0m\u001b[0;34m\u001b[0m\u001b[0;34m\u001b[0m\u001b[0m\n\u001b[1;32m      3\u001b[0m \u001b[0;34m\u001b[0m\u001b[0m\n\u001b[0;32m----> 4\u001b[0;31m \u001b[0mfile1\u001b[0m\u001b[0;34m=\u001b[0m\u001b[0mopen\u001b[0m\u001b[0;34m(\u001b[0m\u001b[0;34m'a1@hola.com.txt'\u001b[0m\u001b[0;34m,\u001b[0m\u001b[0;34m'r'\u001b[0m\u001b[0;34m)\u001b[0m\u001b[0;34m\u001b[0m\u001b[0;34m\u001b[0m\u001b[0m\n\u001b[0m\u001b[1;32m      5\u001b[0m \u001b[0mtext_token1\u001b[0m\u001b[0;34m=\u001b[0m\u001b[0mfile1\u001b[0m\u001b[0;34m.\u001b[0m\u001b[0mread\u001b[0m\u001b[0;34m(\u001b[0m\u001b[0;34m)\u001b[0m\u001b[0;34m\u001b[0m\u001b[0;34m\u001b[0m\u001b[0m\n\u001b[1;32m      6\u001b[0m \u001b[0mfile1\u001b[0m\u001b[0;34m.\u001b[0m\u001b[0mclose\u001b[0m\u001b[0;34m(\u001b[0m\u001b[0;34m)\u001b[0m\u001b[0;34m\u001b[0m\u001b[0;34m\u001b[0m\u001b[0m\n",
            "\u001b[0;31mFileNotFoundError\u001b[0m: [Errno 2] No such file or directory: 'a1@hola.com.txt'"
          ]
        }
      ]
    }
  ]
}