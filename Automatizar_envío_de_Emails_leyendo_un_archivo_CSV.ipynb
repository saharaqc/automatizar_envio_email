{
  "cells": [
    {
      "cell_type": "markdown",
      "metadata": {
        "colab_type": "text",
        "id": "view-in-github"
      },
      "source": [
        "<a href=\"https://colab.research.google.com/github/saji89lulu/automatizar_envio_email/blob/main/Automatizar_env%C3%ADo_de_Emails_leyendo_un_archivo_CSV.ipynb\" target=\"_parent\"><img src=\"https://colab.research.google.com/assets/colab-badge.svg\" alt=\"Open In Colab\"/></a>"
      ]
    },
    {
      "cell_type": "markdown",
      "metadata": {
        "id": "lxIFXYwTPEYu"
      },
      "source": [
        "# **Email Personalization Project**\n",
        "\n",
        "This project aims to automate the generation of personalized email messages based on a list of email addresses provided in a CSV file. The emails are grouped by domain, and each user receives a customized message.\n",
        "\n"
      ]
    },
    {
      "cell_type": "code",
      "execution_count": 1,
      "metadata": {
        "id": "1qVQOfyrqDFY"
      },
      "outputs": [],
      "source": [
        "import re\n",
        "import pandas as pd"
      ]
    },
    {
      "cell_type": "code",
      "execution_count": 11,
      "metadata": {
        "colab": {
          "base_uri": "https://localhost:8080/"
        },
        "id": "_7033vnMp2Tm",
        "outputId": "d126ae06-eb50-444f-ef12-c30106edeba3"
      },
      "outputs": [
        {
          "name": "stdout",
          "output_type": "stream",
          "text": [
            "{'vmail.es': ['garcia.lopez'], 'gagoo.es': ['sanchez.mariano'], 'yotmail.com': ['sahara.quinones'], 'youtlook.com': ['noemi.cabrera']}\n",
            "Los dominios son: vmail.es\n",
            "Se han creado 1 emails personalizados de cuentas de vmail.es\n",
            "Los dominios son: gagoo.es\n",
            "Se han creado 1 emails personalizados de cuentas de gagoo.es\n",
            "Los dominios son: yotmail.com\n",
            "Se han creado 1 emails personalizados de cuentas de yotmail.com\n",
            "Los dominios son: youtlook.com\n",
            "Se han creado 1 emails personalizados de cuentas de youtlook.com\n"
          ]
        }
      ],
      "source": [
        "# Clase Email para manejar los emails\n",
        "class Email:\n",
        "\n",
        "    def proveedor_usuarios(self, lista):\n",
        "        self.lista = lista\n",
        "        lista_dividida = []\n",
        "\n",
        "        # Separo los emails por el carácter @\n",
        "        for email in self.lista:\n",
        "            result = re.split(r'@', email)  # Divido email en usuario y dominio\n",
        "            lista_dividida.append(result)\n",
        "\n",
        "        proveedor = {}  # Diccionario para organizar por el dominio\n",
        "        # Itero en la lista para agrupar los usuarios por dominio\n",
        "        for datos in lista_dividida:\n",
        "            usuario, dominio = datos  # Desempaqueto usuario y dominio\n",
        "            if dominio not in proveedor:\n",
        "                proveedor[dominio] = []  # Si no está el dominio, lo añado como clave\n",
        "            proveedor[dominio].append(usuario)  # Añado el usuario al dominio correspondiente\n",
        "\n",
        "        return proveedor\n",
        "\n",
        "    def mensaje(self, texto):\n",
        "        self.texto = texto\n",
        "        with open('mensaje_generico.txt', 'w') as f:\n",
        "            f.write(self.texto)\n",
        "        with open('mensaje_generico.txt', 'r') as f:\n",
        "            return f.read()\n",
        "\n",
        "    def preparar_envio(self, diccionario, proveedor, generico):\n",
        "        self.diccionario = diccionario\n",
        "        self.proveedor = proveedor\n",
        "        self.generico = generico\n",
        "        acumulado = 0  # Inicializamos acumulado\n",
        "\n",
        "        # Verifico si el proveedor está en el diccionario\n",
        "        if self.proveedor in self.diccionario:\n",
        "            usuarios = self.diccionario[self.proveedor]  # Leer los valores del proveedor\n",
        "            acumulado = len(usuarios)  # La cantidad de usuarios que coinciden con el proveedor\n",
        "            # Itero en los valores (nombres) del diccionario\n",
        "            for usuario in usuarios:\n",
        "                # Reemplazo las variables en el mensaje personalizado\n",
        "                usuario=usuario.split('.')[0] # Selecciono el primer nombre del email\n",
        "                mensaje_personalizado = re.sub(r'{nombre}', usuario.capitalize(), self.generico)\n",
        "                mensaje_personalizado = re.sub(r'{proveedor}', self.proveedor, mensaje_personalizado)\n",
        "                # Escribo el mensaje personalizado en el archivo de salida\n",
        "                with open(f'{usuario}@{proveedor}.txt', 'w') as archivo_salida:\n",
        "                    archivo_salida.write(mensaje_personalizado)\n",
        "                    archivo_salida.close()\n",
        "        else:\n",
        "            print('No se encontró proveedor')\n",
        "\n",
        "        return f'Se han creado {acumulado} emails personalizados de cuentas de {self.proveedor}'\n",
        "\n",
        "# Leer el archivo Excel o CSV con pandas para extraer la lista de emails\n",
        "def cargar_emails_desde_csv(ruta_archivo):\n",
        "    df = pd.read_csv(ruta_archivo)  # Lee el archivo CSV\n",
        "    emails = df['Email'].tolist()  # Convierte la columna 'email' a lista\n",
        "    return emails\n",
        "\n",
        "# Ruta del archivo CSV\n",
        "ruta_archivo_csv = 'emails.csv'\n",
        "\n",
        "# Cargar los emails del archivo CSV\n",
        "Lista_emails = cargar_emails_desde_csv(ruta_archivo_csv)\n",
        "\n",
        "# Proceso principal\n",
        "email_obj = Email()\n",
        "dict_emails = email_obj.proveedor_usuarios(Lista_emails)\n",
        "generico = email_obj.mensaje('Buenos días {nombre},\\nGracias por elegir {proveedor} como tu proveedor de mensajes.\\nUn cordial saludo')\n",
        "\n",
        "# Preparar el envío de emails\n",
        "# Iterar sobre todos los dominios y generar emails para todos\n",
        "for dominio, usuarios in dict_emails.items():\n",
        "    resultado = email_obj.preparar_envio(dict_emails, dominio, generico)\n",
        "    print(resultado)\n"
      ]
    }
  ],
  "metadata": {
    "colab": {
      "authorship_tag": "ABX9TyOlldIyvtohZV968hwwuTbH",
      "include_colab_link": true,
      "provenance": []
    },
    "kernelspec": {
      "display_name": "Python 3",
      "name": "python3"
    },
    "language_info": {
      "name": "python"
    }
  },
  "nbformat": 4,
  "nbformat_minor": 0
}
